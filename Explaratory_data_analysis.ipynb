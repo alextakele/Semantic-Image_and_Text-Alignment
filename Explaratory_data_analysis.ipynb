{
 "cells": [
  {
   "cell_type": "markdown",
   "metadata": {},
   "source": [
    "### Parse important information from initial raw file convert and save it to parsed dir as dataframe"
   ]
  },
  {
   "cell_type": "markdown",
   "metadata": {},
   "source": [
    "#### Import modules"
   ]
  },
  {
   "cell_type": "code",
   "execution_count": 1,
   "metadata": {},
   "outputs": [],
   "source": [
    "import sys, os\n",
    "import pandas as pd\n",
    "import json"
   ]
  },
  {
   "cell_type": "markdown",
   "metadata": {},
   "source": [
    "#### Init Variables"
   ]
  },
  {
   "cell_type": "markdown",
   "metadata": {},
   "source": [
    "#### Read File"
   ]
  },
  {
   "cell_type": "code",
   "execution_count": 2,
   "metadata": {},
   "outputs": [],
   "source": [
    "data = pd.read_json('concepts.json')"
   ]
  },
  {
   "cell_type": "code",
   "execution_count": 9,
   "metadata": {},
   "outputs": [
    {
     "data": {
      "text/html": [
       "<div>\n",
       "<style scoped>\n",
       "    .dataframe tbody tr th:only-of-type {\n",
       "        vertical-align: middle;\n",
       "    }\n",
       "\n",
       "    .dataframe tbody tr th {\n",
       "        vertical-align: top;\n",
       "    }\n",
       "\n",
       "    .dataframe thead th {\n",
       "        text-align: right;\n",
       "    }\n",
       "</style>\n",
       "<table border=\"1\" class=\"dataframe\">\n",
       "  <thead>\n",
       "    <tr style=\"text-align: right;\">\n",
       "      <th></th>\n",
       "      <th>concept</th>\n",
       "      <th>implementation</th>\n",
       "      <th>explanation</th>\n",
       "      <th>asset_suggestions</th>\n",
       "    </tr>\n",
       "  </thead>\n",
       "  <tbody>\n",
       "    <tr>\n",
       "      <th>0</th>\n",
       "      <td>Escape Challenge Teaser</td>\n",
       "      <td>{'frame_1': {'description': 'The ad begins wit...</td>\n",
       "      <td>This concept aligns with LEGO CITY's brand ide...</td>\n",
       "      <td>[{'frame_1': {'Background Animation': 'A suspe...</td>\n",
       "    </tr>\n",
       "    <tr>\n",
       "      <th>1</th>\n",
       "      <td>Interactive Storytelling</td>\n",
       "      <td>{'frame_1': {'description': 'The ad opens with...</td>\n",
       "      <td>This concept aligns with LEGO CITY's brand ide...</td>\n",
       "      <td>[{'frame_1': {'Background Animation': 'A suspe...</td>\n",
       "    </tr>\n",
       "    <tr>\n",
       "      <th>2</th>\n",
       "      <td>City Tour</td>\n",
       "      <td>{'frame_1': {'description': 'The ad begins wit...</td>\n",
       "      <td>This concept aligns with LEGO CITY's brand ide...</td>\n",
       "      <td>[{'frame_1': {'Background Animation': 'A suspe...</td>\n",
       "    </tr>\n",
       "    <tr>\n",
       "      <th>3</th>\n",
       "      <td>Interactive Globe Journey</td>\n",
       "      <td>{'frame_1': {'description': 'The ad opens with...</td>\n",
       "      <td>This concept aligns with the brand's identity ...</td>\n",
       "      <td>[{'frame_1': {'3D Globe': 'A high-definition 3...</td>\n",
       "    </tr>\n",
       "    <tr>\n",
       "      <th>4</th>\n",
       "      <td>Cultural Carousel</td>\n",
       "      <td>{'frame_1': {'description': 'A carousel of cul...</td>\n",
       "      <td>This concept leverages the brand's diverse por...</td>\n",
       "      <td>[{'frame_1': {'Background Image': 'A high-reso...</td>\n",
       "    </tr>\n",
       "    <tr>\n",
       "      <th>5</th>\n",
       "      <td>Capture the Moment</td>\n",
       "      <td>{'frame_1': {'description': 'A series of fast-...</td>\n",
       "      <td>This concept aligns with Adludio's brand ident...</td>\n",
       "      <td>[{'frame_1': {'Background': 'A dynamic montage...</td>\n",
       "    </tr>\n",
       "    <tr>\n",
       "      <th>6</th>\n",
       "      <td>LEGO CITY Quiz</td>\n",
       "      <td>{'frame_1': {'description': 'The ad opens with...</td>\n",
       "      <td>This concept aligns with LEGO CITY's brand ide...</td>\n",
       "      <td>[{'frame_1': {'Background Animation': 'A suspe...</td>\n",
       "    </tr>\n",
       "    <tr>\n",
       "      <th>7</th>\n",
       "      <td>YOUR CITY, NO LIMITS</td>\n",
       "      <td>{'frame_1': {'description': 'The ad opens with...</td>\n",
       "      <td>The concept aligns with LEGO's brand identity ...</td>\n",
       "      <td>[{'frame_1': {'Background Animation': 'A suspe...</td>\n",
       "    </tr>\n",
       "    <tr>\n",
       "      <th>8</th>\n",
       "      <td>Spot the Difference</td>\n",
       "      <td>{'frame_1': {'description': 'The ad starts wit...</td>\n",
       "      <td>The concept aligns with LEGO's brand identity ...</td>\n",
       "      <td>[{'frame_1': {'Background Animation': 'A suspe...</td>\n",
       "    </tr>\n",
       "    <tr>\n",
       "      <th>9</th>\n",
       "      <td>YOUR CITY, NO LIMITS</td>\n",
       "      <td>{'frame_1': {'description': 'The first frame i...</td>\n",
       "      <td>This concept aligns with the LEGO CITY brand i...</td>\n",
       "      <td>[{'frame_1': {'Background Animation': 'A suspe...</td>\n",
       "    </tr>\n",
       "  </tbody>\n",
       "</table>\n",
       "</div>"
      ],
      "text/plain": [
       "                     concept  \\\n",
       "0    Escape Challenge Teaser   \n",
       "1   Interactive Storytelling   \n",
       "2                  City Tour   \n",
       "3  Interactive Globe Journey   \n",
       "4          Cultural Carousel   \n",
       "5         Capture the Moment   \n",
       "6             LEGO CITY Quiz   \n",
       "7       YOUR CITY, NO LIMITS   \n",
       "8        Spot the Difference   \n",
       "9       YOUR CITY, NO LIMITS   \n",
       "\n",
       "                                      implementation  \\\n",
       "0  {'frame_1': {'description': 'The ad begins wit...   \n",
       "1  {'frame_1': {'description': 'The ad opens with...   \n",
       "2  {'frame_1': {'description': 'The ad begins wit...   \n",
       "3  {'frame_1': {'description': 'The ad opens with...   \n",
       "4  {'frame_1': {'description': 'A carousel of cul...   \n",
       "5  {'frame_1': {'description': 'A series of fast-...   \n",
       "6  {'frame_1': {'description': 'The ad opens with...   \n",
       "7  {'frame_1': {'description': 'The ad opens with...   \n",
       "8  {'frame_1': {'description': 'The ad starts wit...   \n",
       "9  {'frame_1': {'description': 'The first frame i...   \n",
       "\n",
       "                                         explanation  \\\n",
       "0  This concept aligns with LEGO CITY's brand ide...   \n",
       "1  This concept aligns with LEGO CITY's brand ide...   \n",
       "2  This concept aligns with LEGO CITY's brand ide...   \n",
       "3  This concept aligns with the brand's identity ...   \n",
       "4  This concept leverages the brand's diverse por...   \n",
       "5  This concept aligns with Adludio's brand ident...   \n",
       "6  This concept aligns with LEGO CITY's brand ide...   \n",
       "7  The concept aligns with LEGO's brand identity ...   \n",
       "8  The concept aligns with LEGO's brand identity ...   \n",
       "9  This concept aligns with the LEGO CITY brand i...   \n",
       "\n",
       "                                   asset_suggestions  \n",
       "0  [{'frame_1': {'Background Animation': 'A suspe...  \n",
       "1  [{'frame_1': {'Background Animation': 'A suspe...  \n",
       "2  [{'frame_1': {'Background Animation': 'A suspe...  \n",
       "3  [{'frame_1': {'3D Globe': 'A high-definition 3...  \n",
       "4  [{'frame_1': {'Background Image': 'A high-reso...  \n",
       "5  [{'frame_1': {'Background': 'A dynamic montage...  \n",
       "6  [{'frame_1': {'Background Animation': 'A suspe...  \n",
       "7  [{'frame_1': {'Background Animation': 'A suspe...  \n",
       "8  [{'frame_1': {'Background Animation': 'A suspe...  \n",
       "9  [{'frame_1': {'Background Animation': 'A suspe...  "
      ]
     },
     "execution_count": 9,
     "metadata": {},
     "output_type": "execute_result"
    }
   ],
   "source": [
    "data.head(10)"
   ]
  },
  {
   "cell_type": "code",
   "execution_count": 7,
   "metadata": {},
   "outputs": [
    {
     "data": {
      "text/plain": [
       "0     {'frame_1': {'description': 'The ad begins wit...\n",
       "1     {'frame_1': {'description': 'The ad opens with...\n",
       "2     {'frame_1': {'description': 'The ad begins wit...\n",
       "3     {'frame_1': {'description': 'The ad opens with...\n",
       "4     {'frame_1': {'description': 'A carousel of cul...\n",
       "                            ...                        \n",
       "95    {'frame_1': {'description': 'The ad begins wit...\n",
       "96    {'frame_1': {'description': 'The ad begins wit...\n",
       "97    {'frame_1': {'description': 'The ad opens with...\n",
       "98    {'frame_1': {'description': 'The ad opens with...\n",
       "99    {'frame_1': {'description': 'The ad opens with...\n",
       "Name: implementation, Length: 100, dtype: object"
      ]
     },
     "execution_count": 7,
     "metadata": {},
     "output_type": "execute_result"
    }
   ],
   "source": [
    "data['implementation'].head(100)\n",
    "# parsed_message"
   ]
  },
  {
   "cell_type": "code",
   "execution_count": 10,
   "metadata": {},
   "outputs": [
    {
     "data": {
      "text/plain": [
       "0    [{'frame_1': {'Background Animation': 'A suspe...\n",
       "1    [{'frame_1': {'Background Animation': 'A suspe...\n",
       "2    [{'frame_1': {'Background Animation': 'A suspe...\n",
       "3    [{'frame_1': {'3D Globe': 'A high-definition 3...\n",
       "4    [{'frame_1': {'Background Image': 'A high-reso...\n",
       "Name: asset_suggestions, dtype: object"
      ]
     },
     "execution_count": 10,
     "metadata": {},
     "output_type": "execute_result"
    }
   ],
   "source": [
    "data['asset_suggestions'].head()\n"
   ]
  },
  {
   "cell_type": "code",
   "execution_count": null,
   "metadata": {},
   "outputs": [],
   "source": []
  },
  {
   "cell_type": "code",
   "execution_count": null,
   "metadata": {},
   "outputs": [],
   "source": []
  },
  {
   "cell_type": "code",
   "execution_count": null,
   "metadata": {},
   "outputs": [],
   "source": []
  },
  {
   "cell_type": "code",
   "execution_count": null,
   "metadata": {},
   "outputs": [],
   "source": []
  },
  {
   "cell_type": "code",
   "execution_count": null,
   "metadata": {},
   "outputs": [],
   "source": []
  },
  {
   "cell_type": "code",
   "execution_count": null,
   "metadata": {},
   "outputs": [],
   "source": []
  },
  {
   "cell_type": "code",
   "execution_count": null,
   "metadata": {},
   "outputs": [],
   "source": []
  },
  {
   "cell_type": "code",
   "execution_count": null,
   "metadata": {},
   "outputs": [],
   "source": []
  },
  {
   "cell_type": "code",
   "execution_count": null,
   "metadata": {},
   "outputs": [],
   "source": []
  },
  {
   "cell_type": "markdown",
   "metadata": {},
   "source": [
    "#### Create pandas dataframe from parsed messages"
   ]
  },
  {
   "cell_type": "code",
   "execution_count": 5,
   "metadata": {},
   "outputs": [
    {
     "data": {
      "text/html": [
       "<div>\n",
       "<style scoped>\n",
       "    .dataframe tbody tr th:only-of-type {\n",
       "        vertical-align: middle;\n",
       "    }\n",
       "\n",
       "    .dataframe tbody tr th {\n",
       "        vertical-align: top;\n",
       "    }\n",
       "\n",
       "    .dataframe thead th {\n",
       "        text-align: right;\n",
       "    }\n",
       "</style>\n",
       "<table border=\"1\" class=\"dataframe\">\n",
       "  <thead>\n",
       "    <tr style=\"text-align: right;\">\n",
       "      <th></th>\n",
       "      <th>text</th>\n",
       "      <th>date</th>\n",
       "    </tr>\n",
       "    <tr>\n",
       "      <th>id</th>\n",
       "      <th></th>\n",
       "      <th></th>\n",
       "    </tr>\n",
       "  </thead>\n",
       "  <tbody>\n",
       "    <tr>\n",
       "      <th>12</th>\n",
       "      <td>ታሪክ የሌለው ህዝብ ታሪካዊ ስራ ለመስራት አይጓጓም። ነፃነትም የማያውቅ ...</td>\n",
       "      <td>2017-07-27T11:37:49</td>\n",
       "    </tr>\n",
       "    <tr>\n",
       "      <th>14</th>\n",
       "      <td>ኢትዮጵያ ኣደይ !\\n\\n@tikvahethiopia</td>\n",
       "      <td>2017-07-27T11:52:34</td>\n",
       "    </tr>\n",
       "    <tr>\n",
       "      <th>15</th>\n",
       "      <td>አደራ ልጄ \\n\\nገንዘብ ውርሴን አምጪ አትበይኝ አደራ\\nመኪና ቪላ ፎቅ ...</td>\n",
       "      <td>2017-07-27T12:13:05</td>\n",
       "    </tr>\n",
       "    <tr>\n",
       "      <th>17</th>\n",
       "      <td>ኢትዮጵያ ሀገሬ መመኪያ ነሽ ክብሬ !\\n\\n@tikvahethiopia</td>\n",
       "      <td>2017-07-27T13:15:01</td>\n",
       "    </tr>\n",
       "    <tr>\n",
       "      <th>18</th>\n",
       "      <td>ኢትዮጵያዊነት\\n\\nኢትዮጵያዊነት ብዙ የተለያዩ ኅብረተሰቦች የተዋኅዱበት ...</td>\n",
       "      <td>2017-07-27T13:37:46</td>\n",
       "    </tr>\n",
       "  </tbody>\n",
       "</table>\n",
       "</div>"
      ],
      "text/plain": [
       "                                                 text                 date\n",
       "id                                                                        \n",
       "12  ታሪክ የሌለው ህዝብ ታሪካዊ ስራ ለመስራት አይጓጓም። ነፃነትም የማያውቅ ...  2017-07-27T11:37:49\n",
       "14                     ኢትዮጵያ ኣደይ !\\n\\n@tikvahethiopia  2017-07-27T11:52:34\n",
       "15  አደራ ልጄ \\n\\nገንዘብ ውርሴን አምጪ አትበይኝ አደራ\\nመኪና ቪላ ፎቅ ...  2017-07-27T12:13:05\n",
       "17         ኢትዮጵያ ሀገሬ መመኪያ ነሽ ክብሬ !\\n\\n@tikvahethiopia  2017-07-27T13:15:01\n",
       "18  ኢትዮጵያዊነት\\n\\nኢትዮጵያዊነት ብዙ የተለያዩ ኅብረተሰቦች የተዋኅዱበት ...  2017-07-27T13:37:46"
      ]
     },
     "execution_count": 5,
     "metadata": {},
     "output_type": "execute_result"
    }
   ],
   "source": [
    "# Convert the dictionary to a Pandas DataFrame\n",
    "df = pd.DataFrame(parsed_message)\n",
    "df.set_index('id', inplace=True)\n",
    "df.head()"
   ]
  },
  {
   "cell_type": "code",
   "execution_count": 6,
   "metadata": {},
   "outputs": [
    {
     "data": {
      "text/plain": [
       "(39754, 2)"
      ]
     },
     "execution_count": 6,
     "metadata": {},
     "output_type": "execute_result"
    }
   ],
   "source": [
    "df.shape"
   ]
  },
  {
   "cell_type": "markdown",
   "metadata": {},
   "source": [
    "#### Save"
   ]
  },
  {
   "cell_type": "code",
   "execution_count": 6,
   "metadata": {},
   "outputs": [],
   "source": [
    "df.to_csv(f'{parsed_dir}/{file_name}.csv')"
   ]
  },
  {
   "cell_type": "code",
   "execution_count": null,
   "metadata": {},
   "outputs": [],
   "source": []
  }
 ],
 "metadata": {
  "kernelspec": {
   "display_name": "venv",
   "language": "python",
   "name": "python3"
  },
  "language_info": {
   "codemirror_mode": {
    "name": "ipython",
    "version": 3
   },
   "file_extension": ".py",
   "mimetype": "text/x-python",
   "name": "python",
   "nbconvert_exporter": "python",
   "pygments_lexer": "ipython3",
   "version": "3.11.5"
  }
 },
 "nbformat": 4,
 "nbformat_minor": 2
}
